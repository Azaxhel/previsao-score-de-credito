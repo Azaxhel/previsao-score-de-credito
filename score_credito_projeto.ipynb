{
 "cells": [
  {
   "cell_type": "markdown",
   "id": "0abf97a5",
   "metadata": {},
   "source": [
    "# Previsão de Score de Crédito com Machine Learning\n",
    "\n",
    "Este projeto aplica algoritmos de machine learning supervisionado para prever o score de crédito de clientes com base em atributos como profissão, histórico de pagamento e mix de crédito. Foram comparados dois modelos (Random Forest e KNN), com avaliação de desempenho e aplicação prática em novos dados.\n",
    "\n",
    "### Objetivo\n",
    "Prever automaticamente o score de crédito de clientes: Ruim, Ok ou Bom.\n",
    "\n",
    "### Etapas do Projeto\n",
    "- Importação e visualização dos dados\n",
    "- Preparação dos dados (Label Encoding)\n",
    "- Divisão treino/teste\n",
    "- Treinamento dos modelos\n",
    "- Avaliação da acurácia\n",
    "- Previsão em novos clientes\n",
    "- Análise de importância das variáveis"
   ]
  },
  {
   "cell_type": "code",
   "execution_count": null,
   "id": "f2e1c1b2",
   "metadata": {},
   "outputs": [],
   "source": [
    "import pandas as pd\n",
    "from sklearn.preprocessing import LabelEncoder\n",
    "from sklearn.model_selection import train_test_split\n",
    "from sklearn.ensemble import RandomForestClassifier\n",
    "from sklearn.neighbors import KNeighborsClassifier\n",
    "from sklearn.metrics import accuracy_score"
   ]
  },
  {
   "cell_type": "markdown",
   "id": "ec8fefdc",
   "metadata": {},
   "source": [
    "### Importação e visualização dos dados"
   ]
  },
  {
   "cell_type": "code",
   "execution_count": null,
   "id": "52395c1d",
   "metadata": {},
   "outputs": [],
   "source": [
    "tabela = pd.read_csv(\"clientes.csv\")\n",
    "display(tabela)"
   ]
  },
  {
   "cell_type": "code",
   "execution_count": null,
   "id": "eb2995b1",
   "metadata": {},
   "outputs": [],
   "source": [
    "display(tabela.info())"
   ]
  },
  {
   "cell_type": "markdown",
   "id": "6ae31181",
   "metadata": {},
   "source": [
    "### Preparação dos dados (Label Encoding)"
   ]
  },
  {
   "cell_type": "code",
   "execution_count": null,
   "id": "6817930b",
   "metadata": {},
   "outputs": [],
   "source": [
    "codificador = LabelEncoder()\n",
    "codificador2 = LabelEncoder()\n",
    "codificador3 = LabelEncoder()\n",
    "\n",
    "tabela[\"profissao\"] = codificador.fit_transform(tabela[\"profissao\"])\n",
    "tabela[\"mix_credito\"] = codificador2.fit_transform(tabela[\"mix_credito\"])\n",
    "tabela[\"comportamento_pagamento\"] = codificador3.fit_transform(tabela[\"comportamento_pagamento\"])\n",
    "\n",
    "display(tabela.info())"
   ]
  },
  {
   "cell_type": "markdown",
   "id": "17eccc8f",
   "metadata": {},
   "source": [
    "### Divisão treino/teste"
   ]
  },
  {
   "cell_type": "code",
   "execution_count": null,
   "id": "7ee171ca",
   "metadata": {},
   "outputs": [],
   "source": [
    "y = tabela[\"score_credito\"]\n",
    "x = tabela.drop(columns=[\"score_credito\", \"id_cliente\"])\n",
    "\n",
    "x_treino, x_teste, y_treino, y_teste = train_test_split(x, y, test_size=0.3)"
   ]
  },
  {
   "cell_type": "markdown",
   "id": "e6890162",
   "metadata": {},
   "source": [
    "### Treinamento dos modelos"
   ]
  },
  {
   "cell_type": "code",
   "execution_count": null,
   "id": "244696f1",
   "metadata": {},
   "outputs": [],
   "source": [
    "modelo_arvoredecisao = RandomForestClassifier()\n",
    "modelo_knn = KNeighborsClassifier()\n",
    "\n",
    "modelo_arvoredecisao.fit(x_treino, y_treino)\n",
    "modelo_knn.fit(x_treino, y_treino)"
   ]
  },
  {
   "cell_type": "markdown",
   "id": "08cdf3a9",
   "metadata": {},
   "source": [
    "### Avaliação da acurácia"
   ]
  },
  {
   "cell_type": "code",
   "execution_count": null,
   "id": "75fb1d94",
   "metadata": {},
   "outputs": [],
   "source": [
    "previsao_arvoredecisao = modelo_arvoredecisao.predict(x_teste)\n",
    "previsao_knn = modelo_knn.predict(x_teste)\n",
    "\n",
    "display(accuracy_score(y_teste, previsao_arvoredecisao))\n",
    "display(accuracy_score(y_teste, previsao_knn))"
   ]
  },
  {
   "cell_type": "markdown",
   "id": "9fcd9822",
   "metadata": {},
   "source": [
    "### Previsão em novos clientes"
   ]
  },
  {
   "cell_type": "code",
   "execution_count": null,
   "id": "5eb3c691",
   "metadata": {},
   "outputs": [],
   "source": [
    "tabela_novos_clientes = pd.read_csv(\"novos_clientes.csv\")\n",
    "display(tabela_novos_clientes)\n",
    "\n",
    "tabela_novos_clientes[\"profissao\"] = codificador.fit_transform(tabela_novos_clientes[\"profissao\"])\n",
    "tabela_novos_clientes[\"mix_credito\"] = codificador2.fit_transform(tabela_novos_clientes[\"mix_credito\"])\n",
    "tabela_novos_clientes[\"comportamento_pagamento\"] = codificador3.fit_transform(tabela_novos_clientes[\"comportamento_pagamento\"])\n",
    "\n",
    "display(modelo_arvoredecisao.predict(tabela_novos_clientes))"
   ]
  },
  {
   "cell_type": "markdown",
   "id": "49371050",
   "metadata": {},
   "source": [
    "### Análise de importância das variáveis"
   ]
  },
  {
   "cell_type": "code",
   "execution_count": null,
   "id": "241b3600",
   "metadata": {},
   "outputs": [],
   "source": [
    "colunas = list(x_teste.columns)\n",
    "importancia = pd.DataFrame(index=colunas, data=modelo_arvoredecisao.feature_importances_)\n",
    "importancia = importancia * 100\n",
    "print(importancia)"
   ]
  },
  {
   "cell_type": "markdown",
   "id": "854f08d5",
   "metadata": {},
   "source": [
    "### Melhorias Futuras\n",
    "- Adicionar análise exploratória com visualizações (distribuição de variáveis, correlações etc)\n",
    "- Testar outras métricas de desempenho como `precision`, `recall`, `f1-score`\n",
    "- Salvar modelo e encoders com `joblib`\n",
    "- Criar interface simples para entrada de novos dados (ex: Streamlit)"
   ]
  }
 ],
 "metadata": {
  "language": "python",
  "language_info": {
   "name": "python"
  }
 },
 "nbformat": 4,
 "nbformat_minor": 5
}
